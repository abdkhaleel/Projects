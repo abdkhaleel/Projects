{
 "cells": [
  {
   "cell_type": "code",
   "execution_count": 1,
   "id": "905847cd",
   "metadata": {
    "_cell_guid": "b1076dfc-b9ad-4769-8c92-a6c4dae69d19",
    "_uuid": "8f2839f25d086af736a60e9eeb907d3b93b6e0e5",
    "execution": {
     "iopub.execute_input": "2023-11-29T10:00:44.300319Z",
     "iopub.status.busy": "2023-11-29T10:00:44.299727Z",
     "iopub.status.idle": "2023-11-29T10:00:44.693391Z",
     "shell.execute_reply": "2023-11-29T10:00:44.692253Z"
    },
    "papermill": {
     "duration": 0.407518,
     "end_time": "2023-11-29T10:00:44.696414",
     "exception": false,
     "start_time": "2023-11-29T10:00:44.288896",
     "status": "completed"
    },
    "tags": []
   },
   "outputs": [
    {
     "name": "stdout",
     "output_type": "stream",
     "text": [
      "/kaggle/input/fashionmnist/t10k-labels-idx1-ubyte\n",
      "/kaggle/input/fashionmnist/t10k-images-idx3-ubyte\n",
      "/kaggle/input/fashionmnist/fashion-mnist_test.csv\n",
      "/kaggle/input/fashionmnist/fashion-mnist_train.csv\n",
      "/kaggle/input/fashionmnist/train-labels-idx1-ubyte\n",
      "/kaggle/input/fashionmnist/train-images-idx3-ubyte\n"
     ]
    }
   ],
   "source": [
    "# This Python 3 environment comes with many helpful analytics libraries installed\n",
    "# It is defined by the kaggle/python Docker image: https://github.com/kaggle/docker-python\n",
    "# For example, here's several helpful packages to load\n",
    "\n",
    "import numpy as np # linear algebra\n",
    "import pandas as pd # data processing, CSV file I/O (e.g. pd.read_csv)\n",
    "\n",
    "# Input data files are available in the read-only \"../input/\" directory\n",
    "# For example, running this (by clicking run or pressing Shift+Enter) will list all files under the input directory\n",
    "\n",
    "import os\n",
    "for dirname, _, filenames in os.walk('/kaggle/input'):\n",
    "    for filename in filenames:\n",
    "        print(os.path.join(dirname, filename))\n",
    "\n",
    "# You can write up to 20GB to the current directory (/kaggle/working/) that gets preserved as output when you create a version using \"Save & Run All\" \n",
    "# You can also write temporary files to /kaggle/temp/, but they won't be saved outside of the current session"
   ]
  },
  {
   "cell_type": "code",
   "execution_count": 2,
   "id": "8c5d1710",
   "metadata": {
    "execution": {
     "iopub.execute_input": "2023-11-29T10:00:44.709693Z",
     "iopub.status.busy": "2023-11-29T10:00:44.709161Z",
     "iopub.status.idle": "2023-11-29T10:00:58.622034Z",
     "shell.execute_reply": "2023-11-29T10:00:58.620805Z"
    },
    "papermill": {
     "duration": 13.923882,
     "end_time": "2023-11-29T10:00:58.626062",
     "exception": false,
     "start_time": "2023-11-29T10:00:44.702180",
     "status": "completed"
    },
    "tags": []
   },
   "outputs": [],
   "source": [
    "import zipfile\n",
    "from urllib import request\n",
    "import matplotlib.pyplot as plt\n",
    "import matplotlib.image as mpimg\n",
    "import random\n",
    "import tensorflow as tf\n",
    "import cv2"
   ]
  },
  {
   "cell_type": "markdown",
   "id": "ef7ea322",
   "metadata": {
    "papermill": {
     "duration": 0.00512,
     "end_time": "2023-11-29T10:00:58.637714",
     "exception": false,
     "start_time": "2023-11-29T10:00:58.632594",
     "status": "completed"
    },
    "tags": []
   },
   "source": [
    "# **Reading dataset**"
   ]
  },
  {
   "cell_type": "code",
   "execution_count": 3,
   "id": "088924e9",
   "metadata": {
    "execution": {
     "iopub.execute_input": "2023-11-29T10:00:58.650394Z",
     "iopub.status.busy": "2023-11-29T10:00:58.649720Z",
     "iopub.status.idle": "2023-11-29T10:01:03.131686Z",
     "shell.execute_reply": "2023-11-29T10:01:03.130538Z"
    },
    "papermill": {
     "duration": 4.491333,
     "end_time": "2023-11-29T10:01:03.134398",
     "exception": false,
     "start_time": "2023-11-29T10:00:58.643065",
     "status": "completed"
    },
    "tags": []
   },
   "outputs": [
    {
     "name": "stdout",
     "output_type": "stream",
     "text": [
      "(60000, 785)\n"
     ]
    }
   ],
   "source": [
    "img_database = np.loadtxt('/kaggle/input/fashionmnist/fashion-mnist_train.csv', delimiter=',', skiprows=1)\n",
    "print(img_database.shape)\n",
    "total_num_images = (img_database.shape)"
   ]
  },
  {
   "cell_type": "code",
   "execution_count": 4,
   "id": "5775086c",
   "metadata": {
    "execution": {
     "iopub.execute_input": "2023-11-29T10:01:03.149551Z",
     "iopub.status.busy": "2023-11-29T10:01:03.148293Z",
     "iopub.status.idle": "2023-11-29T10:01:03.154011Z",
     "shell.execute_reply": "2023-11-29T10:01:03.152815Z"
    },
    "papermill": {
     "duration": 0.015875,
     "end_time": "2023-11-29T10:01:03.156659",
     "exception": false,
     "start_time": "2023-11-29T10:01:03.140784",
     "status": "completed"
    },
    "tags": []
   },
   "outputs": [],
   "source": [
    "total_num_images = (img_database.shape[0])"
   ]
  },
  {
   "cell_type": "markdown",
   "id": "a15e5105",
   "metadata": {
    "papermill": {
     "duration": 0.005364,
     "end_time": "2023-11-29T10:01:03.167995",
     "exception": false,
     "start_time": "2023-11-29T10:01:03.162631",
     "status": "completed"
    },
    "tags": []
   },
   "source": [
    "# **Defining Layers**"
   ]
  },
  {
   "cell_type": "code",
   "execution_count": 5,
   "id": "063e7609",
   "metadata": {
    "execution": {
     "iopub.execute_input": "2023-11-29T10:01:03.181246Z",
     "iopub.status.busy": "2023-11-29T10:01:03.180873Z",
     "iopub.status.idle": "2023-11-29T10:01:03.188381Z",
     "shell.execute_reply": "2023-11-29T10:01:03.186794Z"
    },
    "papermill": {
     "duration": 0.017323,
     "end_time": "2023-11-29T10:01:03.191089",
     "exception": false,
     "start_time": "2023-11-29T10:01:03.173766",
     "status": "completed"
    },
    "tags": []
   },
   "outputs": [],
   "source": [
    "n_input = 784\n",
    "hidden_layer_1 = 256\n",
    "hidden_layer_2 = 32\n",
    "hidden_layer_3 = 32\n",
    "hidden_layer_4 = 256\n",
    "output_layer = 784"
   ]
  },
  {
   "cell_type": "code",
   "execution_count": 6,
   "id": "4e5c93ef",
   "metadata": {
    "execution": {
     "iopub.execute_input": "2023-11-29T10:01:03.203980Z",
     "iopub.status.busy": "2023-11-29T10:01:03.203438Z",
     "iopub.status.idle": "2023-11-29T10:01:03.209312Z",
     "shell.execute_reply": "2023-11-29T10:01:03.208035Z"
    },
    "papermill": {
     "duration": 0.015125,
     "end_time": "2023-11-29T10:01:03.211761",
     "exception": false,
     "start_time": "2023-11-29T10:01:03.196636",
     "status": "completed"
    },
    "tags": []
   },
   "outputs": [],
   "source": [
    "learning_rate = 0.1\n",
    "epochs = 100\n",
    "batch_size = 100"
   ]
  },
  {
   "cell_type": "code",
   "execution_count": 7,
   "id": "a1c4f320",
   "metadata": {
    "execution": {
     "iopub.execute_input": "2023-11-29T10:01:03.224244Z",
     "iopub.status.busy": "2023-11-29T10:01:03.223880Z",
     "iopub.status.idle": "2023-11-29T10:01:03.230376Z",
     "shell.execute_reply": "2023-11-29T10:01:03.228728Z"
    },
    "papermill": {
     "duration": 0.015521,
     "end_time": "2023-11-29T10:01:03.232638",
     "exception": false,
     "start_time": "2023-11-29T10:01:03.217117",
     "status": "completed"
    },
    "tags": []
   },
   "outputs": [],
   "source": [
    "import tensorflow.compat.v1 as tf\n",
    "\n",
    "tf.disable_v2_behavior() "
   ]
  },
  {
   "cell_type": "code",
   "execution_count": 8,
   "id": "16e86e50",
   "metadata": {
    "execution": {
     "iopub.execute_input": "2023-11-29T10:01:03.245109Z",
     "iopub.status.busy": "2023-11-29T10:01:03.244732Z",
     "iopub.status.idle": "2023-11-29T10:01:03.264099Z",
     "shell.execute_reply": "2023-11-29T10:01:03.262885Z"
    },
    "papermill": {
     "duration": 0.028763,
     "end_time": "2023-11-29T10:01:03.266782",
     "exception": false,
     "start_time": "2023-11-29T10:01:03.238019",
     "status": "completed"
    },
    "tags": []
   },
   "outputs": [],
   "source": [
    "X = tf.placeholder(tf.float32, [None , n_input])\n",
    "Y = tf.placeholder(tf.float32, [None , output_layer])"
   ]
  },
  {
   "cell_type": "markdown",
   "id": "ad31a3b5",
   "metadata": {
    "papermill": {
     "duration": 0.005067,
     "end_time": "2023-11-29T10:01:03.277086",
     "exception": false,
     "start_time": "2023-11-29T10:01:03.272019",
     "status": "completed"
    },
    "tags": []
   },
   "source": [
    "# **Defining Weights and biases of NN**"
   ]
  },
  {
   "cell_type": "code",
   "execution_count": 9,
   "id": "5de3cc0c",
   "metadata": {
    "execution": {
     "iopub.execute_input": "2023-11-29T10:01:03.289179Z",
     "iopub.status.busy": "2023-11-29T10:01:03.288817Z",
     "iopub.status.idle": "2023-11-29T10:01:03.358128Z",
     "shell.execute_reply": "2023-11-29T10:01:03.356856Z"
    },
    "papermill": {
     "duration": 0.078921,
     "end_time": "2023-11-29T10:01:03.361187",
     "exception": false,
     "start_time": "2023-11-29T10:01:03.282266",
     "status": "completed"
    },
    "tags": []
   },
   "outputs": [],
   "source": [
    "Weight_NN = {\n",
    "    \"W1\": tf.Variable(tf.random_normal([n_input , hidden_layer_1])),\n",
    "    \"W2\": tf.Variable(tf.random_normal([hidden_layer_1 , hidden_layer_2])),\n",
    "    \"W3\": tf.Variable(tf.random_normal([hidden_layer_2 , hidden_layer_3])),\n",
    "    \"W4\": tf.Variable(tf.random_normal([hidden_layer_3 , hidden_layer_4])),\n",
    "    \"W5\": tf.Variable(tf.random_normal([hidden_layer_4 , output_layer]))\n",
    "}\n",
    "\n",
    "Bias_NN = {\n",
    "    \"B1\": tf.Variable(tf.random_normal([hidden_layer_1])),\n",
    "    \"B2\": tf.Variable(tf.random_normal([hidden_layer_2])),\n",
    "    \"B3\": tf.Variable(tf.random_normal([hidden_layer_3])),\n",
    "    \"B4\": tf.Variable(tf.random_normal([hidden_layer_4])),\n",
    "    \"B5\": tf.Variable(tf.random_normal([output_layer]))\n",
    "}"
   ]
  },
  {
   "cell_type": "markdown",
   "id": "2b77582d",
   "metadata": {
    "papermill": {
     "duration": 0.005062,
     "end_time": "2023-11-29T10:01:03.372170",
     "exception": false,
     "start_time": "2023-11-29T10:01:03.367108",
     "status": "completed"
    },
    "tags": []
   },
   "source": [
    "# **Computational Graph**"
   ]
  },
  {
   "cell_type": "code",
   "execution_count": 10,
   "id": "85e2e18a",
   "metadata": {
    "execution": {
     "iopub.execute_input": "2023-11-29T10:01:03.385016Z",
     "iopub.status.busy": "2023-11-29T10:01:03.384581Z",
     "iopub.status.idle": "2023-11-29T10:01:03.404969Z",
     "shell.execute_reply": "2023-11-29T10:01:03.403577Z"
    },
    "papermill": {
     "duration": 0.030244,
     "end_time": "2023-11-29T10:01:03.407809",
     "exception": false,
     "start_time": "2023-11-29T10:01:03.377565",
     "status": "completed"
    },
    "tags": []
   },
   "outputs": [],
   "source": [
    "z1 = tf.add(tf.matmul(X, Weight_NN[\"W1\"]), Bias_NN[\"B1\"])\n",
    "z1_out = tf.nn.sigmoid(z1)\n",
    "\n",
    "z2 = tf.add(tf.matmul(z1_out, Weight_NN[\"W2\"]), Bias_NN[\"B2\"])\n",
    "z2_out = tf.nn.sigmoid(z2)\n",
    "\n",
    "z3 = tf.add(tf.matmul(z2_out, Weight_NN[\"W3\"]), Bias_NN[\"B3\"])\n",
    "z3_out = tf.nn.sigmoid(z3)\n",
    "\n",
    "z4 = tf.add(tf.matmul(z3_out, Weight_NN[\"W4\"]), Bias_NN[\"B4\"])\n",
    "z4_out = tf.nn.sigmoid(z4)\n",
    "\n",
    "z5 = tf.add(tf.matmul(z4_out, Weight_NN[\"W5\"]), Bias_NN[\"B5\"])\n",
    "NN_output = (z5)"
   ]
  },
  {
   "cell_type": "markdown",
   "id": "13611e7b",
   "metadata": {
    "papermill": {
     "duration": 0.005221,
     "end_time": "2023-11-29T10:01:03.418329",
     "exception": false,
     "start_time": "2023-11-29T10:01:03.413108",
     "status": "completed"
    },
    "tags": []
   },
   "source": [
    "# **Adding noise to an image**"
   ]
  },
  {
   "cell_type": "code",
   "execution_count": 11,
   "id": "097fc6af",
   "metadata": {
    "execution": {
     "iopub.execute_input": "2023-11-29T10:01:03.431535Z",
     "iopub.status.busy": "2023-11-29T10:01:03.431058Z",
     "iopub.status.idle": "2023-11-29T10:01:05.965635Z",
     "shell.execute_reply": "2023-11-29T10:01:05.964303Z"
    },
    "papermill": {
     "duration": 2.544303,
     "end_time": "2023-11-29T10:01:05.968326",
     "exception": false,
     "start_time": "2023-11-29T10:01:03.424023",
     "status": "completed"
    },
    "tags": []
   },
   "outputs": [
    {
     "data": {
      "image/png": "[encoded data removed]",
      "text/plain": [
       "<Figure size 640x480 with 1 Axes>"
      ]
     },
     "metadata": {},
     "output_type": "display_data"
    },
    {
     "data": {
      "image/png": "[encoded data removed]",
      "text/plain": [
       "<Figure size 640x480 with 1 Axes>"
      ]
     },
     "metadata": {},
     "output_type": "display_data"
    }
   ],
   "source": [
    "np.random.shuffle(img_database)\n",
    "X_train = img_database[:, 1:]\n",
    "X_train_noisy = X_train + 10 * np.random.normal(0, 1, size=X_train.shape)\n",
    "\n",
    "plt.imshow(X_train[0].reshape(28, 28), cmap='gray')\n",
    "plt.title(\"Original Image\")\n",
    "plt.show()\n",
    "\n",
    "\n",
    "plt.imshow(X_train_noisy[0].reshape(28,28), cmap = 'gray')\n",
    "plt.title(\"Noisy Image\")\n",
    "plt.show()"
   ]
  },
  {
   "cell_type": "markdown",
   "id": "eb61c21a",
   "metadata": {
    "papermill": {
     "duration": 0.006078,
     "end_time": "2023-11-29T10:01:05.982205",
     "exception": false,
     "start_time": "2023-11-29T10:01:05.976127",
     "status": "completed"
    },
    "tags": []
   },
   "source": [
    "# **Metrics**"
   ]
  },
  {
   "cell_type": "code",
   "execution_count": 12,
   "id": "4f61e1ef",
   "metadata": {
    "execution": {
     "iopub.execute_input": "2023-11-29T10:01:05.997747Z",
     "iopub.status.busy": "2023-11-29T10:01:05.996654Z",
     "iopub.status.idle": "2023-11-29T10:01:06.149076Z",
     "shell.execute_reply": "2023-11-29T10:01:06.147903Z"
    },
    "papermill": {
     "duration": 0.163388,
     "end_time": "2023-11-29T10:01:06.152374",
     "exception": false,
     "start_time": "2023-11-29T10:01:05.988986",
     "status": "completed"
    },
    "tags": []
   },
   "outputs": [],
   "source": [
    "computed_loss = tf.reduce_mean(tf.square(NN_output-Y))\n",
    "optimizer = tf.train.AdagradOptimizer(learning_rate).minimize(computed_loss)\n",
    "\n",
    "init = tf.global_variables_initializer()"
   ]
  },
  {
   "cell_type": "markdown",
   "id": "3b9e3e80",
   "metadata": {
    "papermill": {
     "duration": 0.005642,
     "end_time": "2023-11-29T10:01:06.163879",
     "exception": false,
     "start_time": "2023-11-29T10:01:06.158237",
     "status": "completed"
    },
    "tags": []
   },
   "source": [
    "# **Initialization of Session**"
   ]
  },
  {
   "cell_type": "code",
   "execution_count": 13,
   "id": "5c9efd43",
   "metadata": {
    "execution": {
     "iopub.execute_input": "2023-11-29T10:01:06.177307Z",
     "iopub.status.busy": "2023-11-29T10:01:06.176872Z",
     "iopub.status.idle": "2023-11-29T10:07:42.896255Z",
     "shell.execute_reply": "2023-11-29T10:07:42.895348Z"
    },
    "papermill": {
     "duration": 396.729141,
     "end_time": "2023-11-29T10:07:42.898771",
     "exception": false,
     "start_time": "2023-11-29T10:01:06.169630",
     "status": "completed"
    },
    "tags": []
   },
   "outputs": [
    {
     "name": "stdout",
     "output_type": "stream",
     "text": [
      "Epoch 0 / 100 loss: 3688.1897\n",
      "Epoch 1 / 100 loss: 3412.1028\n",
      "Epoch 2 / 100 loss: 3149.9836\n",
      "Epoch 3 / 100 loss: 3089.06\n",
      "Epoch 4 / 100 loss: 2989.3933\n",
      "Epoch 5 / 100 loss: 2936.0857\n",
      "Epoch 6 / 100 loss: 2834.4739\n",
      "Epoch 7 / 100 loss: 2697.1008\n",
      "Epoch 8 / 100 loss: 2668.712\n",
      "Epoch 9 / 100 loss: 2733.42\n",
      "Epoch 10 / 100 loss: 2590.876\n",
      "Epoch 11 / 100 loss: 2578.3064\n",
      "Epoch 12 / 100 loss: 2495.2805\n",
      "Epoch 13 / 100 loss: 2485.4446\n",
      "Epoch 14 / 100 loss: 2451.814\n",
      "Epoch 15 / 100 loss: 2484.4243\n",
      "Epoch 16 / 100 loss: 2331.4062\n",
      "Epoch 17 / 100 loss: 2372.7844\n",
      "Epoch 18 / 100 loss: 2438.6338\n",
      "Epoch 19 / 100 loss: 2294.9443\n",
      "Epoch 20 / 100 loss: 2327.131\n",
      "Epoch 21 / 100 loss: 2323.0295\n",
      "Epoch 22 / 100 loss: 2349.9832\n",
      "Epoch 23 / 100 loss: 2354.2979\n",
      "Epoch 24 / 100 loss: 2326.1848\n",
      "Epoch 25 / 100 loss: 2338.8955\n",
      "Epoch 26 / 100 loss: 2257.432\n",
      "Epoch 27 / 100 loss: 2251.7617\n",
      "Epoch 28 / 100 loss: 2315.2412\n",
      "Epoch 29 / 100 loss: 2231.5176\n",
      "Epoch 30 / 100 loss: 2278.8162\n",
      "Epoch 31 / 100 loss: 2254.7507\n",
      "Epoch 32 / 100 loss: 2275.3875\n",
      "Epoch 33 / 100 loss: 2186.7083\n",
      "Epoch 34 / 100 loss: 2185.5808\n",
      "Epoch 35 / 100 loss: 2180.8647\n",
      "Epoch 36 / 100 loss: 2119.5166\n",
      "Epoch 37 / 100 loss: 2124.0955\n",
      "Epoch 38 / 100 loss: 2106.9165\n",
      "Epoch 39 / 100 loss: 2216.1672\n",
      "Epoch 40 / 100 loss: 2143.8176\n",
      "Epoch 41 / 100 loss: 2244.4211\n",
      "Epoch 42 / 100 loss: 2159.3992\n",
      "Epoch 43 / 100 loss: 2141.4722\n",
      "Epoch 44 / 100 loss: 2165.5144\n",
      "Epoch 45 / 100 loss: 2173.0093\n",
      "Epoch 46 / 100 loss: 2082.006\n",
      "Epoch 47 / 100 loss: 2093.1616\n",
      "Epoch 48 / 100 loss: 2090.018\n",
      "Epoch 49 / 100 loss: 2116.0466\n",
      "Epoch 50 / 100 loss: 2093.0535\n",
      "Epoch 51 / 100 loss: 2076.3958\n",
      "Epoch 52 / 100 loss: 2044.2012\n",
      "Epoch 53 / 100 loss: 2013.5159\n",
      "Epoch 54 / 100 loss: 1964.2759\n",
      "Epoch 55 / 100 loss: 2007.2006\n",
      "Epoch 56 / 100 loss: 2002.5641\n",
      "Epoch 57 / 100 loss: 2019.3049\n",
      "Epoch 58 / 100 loss: 2001.6547\n",
      "Epoch 59 / 100 loss: 1995.0541\n",
      "Epoch 60 / 100 loss: 2040.41\n",
      "Epoch 61 / 100 loss: 2034.4453\n",
      "Epoch 62 / 100 loss: 2032.0857\n",
      "Epoch 63 / 100 loss: 2008.2902\n",
      "Epoch 64 / 100 loss: 2046.2845\n",
      "Epoch 65 / 100 loss: 2003.8096\n",
      "Epoch 66 / 100 loss: 2009.3341\n",
      "Epoch 67 / 100 loss: 1960.0195\n",
      "Epoch 68 / 100 loss: 2000.8727\n",
      "Epoch 69 / 100 loss: 2015.3175\n",
      "Epoch 70 / 100 loss: 2022.4694\n",
      "Epoch 71 / 100 loss: 2003.6792\n",
      "Epoch 72 / 100 loss: 1960.9584\n",
      "Epoch 73 / 100 loss: 1987.4274\n",
      "Epoch 74 / 100 loss: 1990.66\n",
      "Epoch 75 / 100 loss: 1975.8739\n",
      "Epoch 76 / 100 loss: 1945.6869\n",
      "Epoch 77 / 100 loss: 1945.3673\n",
      "Epoch 78 / 100 loss: 1934.3892\n",
      "Epoch 79 / 100 loss: 1958.2278\n",
      "Epoch 80 / 100 loss: 1977.1637\n",
      "Epoch 81 / 100 loss: 1969.376\n",
      "Epoch 82 / 100 loss: 1954.716\n",
      "Epoch 83 / 100 loss: 1950.672\n",
      "Epoch 84 / 100 loss: 1951.5171\n",
      "Epoch 85 / 100 loss: 1960.1409\n",
      "Epoch 86 / 100 loss: 1929.3649\n",
      "Epoch 87 / 100 loss: 1933.2347\n",
      "Epoch 88 / 100 loss: 1914.6807\n",
      "Epoch 89 / 100 loss: 1918.5104\n",
      "Epoch 90 / 100 loss: 1968.0896\n",
      "Epoch 91 / 100 loss: 1897.7886\n",
      "Epoch 92 / 100 loss: 1944.8065\n",
      "Epoch 93 / 100 loss: 1905.6616\n",
      "Epoch 94 / 100 loss: 1952.3934\n",
      "Epoch 95 / 100 loss: 1906.6595\n",
      "Epoch 96 / 100 loss: 1945.3785\n",
      "Epoch 97 / 100 loss: 1935.139\n",
      "Epoch 98 / 100 loss: 1902.0134\n",
      "Epoch 99 / 100 loss: 1945.4645\n"
     ]
    }
   ],
   "source": [
    "sess = tf.Session()\n",
    "sess.run(init)\n",
    "for epoch in range(epochs):\n",
    "    for i in range(int(total_num_images/batch_size)):\n",
    "        X_epoch = X_train[ i*batch_size : (i+1)*batch_size ]\n",
    "        X_noise_epoch = X_train_noisy[ i*batch_size : (i+1)*batch_size ]\n",
    "        _, loss = sess.run([optimizer, computed_loss], feed_dict={X: X_noise_epoch, Y: X_epoch})\n",
    "    print('Epoch', epoch, '/', epochs, 'loss:', loss)"
   ]
  },
  {
   "cell_type": "markdown",
   "id": "34576faa",
   "metadata": {
    "papermill": {
     "duration": 0.01162,
     "end_time": "2023-11-29T10:07:42.922286",
     "exception": false,
     "start_time": "2023-11-29T10:07:42.910666",
     "status": "completed"
    },
    "tags": []
   },
   "source": [
    "# **Visualizing Original, Noise added and Denoised Image**"
   ]
  },
  {
   "cell_type": "code",
   "execution_count": 14,
   "id": "94a3c043",
   "metadata": {
    "execution": {
     "iopub.execute_input": "2023-11-29T10:07:42.947455Z",
     "iopub.status.busy": "2023-11-29T10:07:42.947071Z",
     "iopub.status.idle": "2023-11-29T10:07:44.486770Z",
     "shell.execute_reply": "2023-11-29T10:07:44.485380Z"
    },
    "papermill": {
     "duration": 1.555881,
     "end_time": "2023-11-29T10:07:44.490009",
     "exception": false,
     "start_time": "2023-11-29T10:07:42.934128",
     "status": "completed"
    },
    "tags": []
   },
   "outputs": [
    {
     "data": {
      "image/png": "[encoded data removed]",
      "text/plain": [
       "<Figure size 2000x400 with 30 Axes>"
      ]
     },
     "metadata": {},
     "output_type": "display_data"
    }
   ],
   "source": [
    "X_actual = X_train[20:30]\n",
    "noisy_image = X_train_noisy[20:30]\n",
    "\n",
    "denoised_image = sess.run(NN_output, feed_dict={X:noisy_image})\n",
    "\n",
    "fig, axes = plt.subplots(nrows=3, ncols=10, sharex=True, sharey=True, figsize=(20, 4))\n",
    "for images, row in zip([X_actual, noisy_image, denoised_image], axes):\n",
    "    for img, ax in zip(images, row):\n",
    "        ax.imshow(img.reshape(28,28), cmap='Greys_r')\n",
    "        ax.get_xaxis().set_visible(False)\n",
    "        ax.get_yaxis().set_visible(False)\n",
    "        \n",
    "fig.tight_layout(pad=0.1)"
   ]
  }
 ],
 "metadata": {
  "kaggle": {
   "accelerator": "none",
   "dataSources": [
    {
     "datasetId": 2243,
     "sourceId": 9243,
     "sourceType": "datasetVersion"
    }
   ],
   "dockerImageVersionId": 30587,
   "isGpuEnabled": false,
   "isInternetEnabled": true,
   "language": "python",
   "sourceType": "notebook"
  },
  "kernelspec": {
   "display_name": "Python 3",
   "language": "python",
   "name": "python3"
  },
  "language_info": {
   "codemirror_mode": {
    "name": "ipython",
    "version": 3
   },
   "file_extension": ".py",
   "mimetype": "text/x-python",
   "name": "python",
   "nbconvert_exporter": "python",
   "pygments_lexer": "ipython3",
   "version": "3.10.12"
  },
  "papermill": {
   "default_parameters": {},
   "duration": 425.531308,
   "end_time": "2023-11-29T10:07:46.335202",
   "environment_variables": {},
   "exception": null,
   "input_path": "__notebook__.ipynb",
   "output_path": "__notebook__.ipynb",
   "parameters": {},
   "start_time": "2023-11-29T10:00:40.803894",
   "version": "2.4.0"
  }
 },
 "nbformat": 4,
 "nbformat_minor": 5
}
