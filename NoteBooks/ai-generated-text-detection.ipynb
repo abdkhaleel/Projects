{
 "cells": [
  {
   "cell_type": "code",
   "execution_count": 1,
   "id": "05f30c41",
   "metadata": {
    "_cell_guid": "b1076dfc-b9ad-4769-8c92-a6c4dae69d19",
    "_uuid": "8f2839f25d086af736a60e9eeb907d3b93b6e0e5",
    "execution": {
     "iopub.execute_input": "2023-11-25T16:24:42.043100Z",
     "iopub.status.busy": "2023-11-25T16:24:42.042124Z",
     "iopub.status.idle": "2023-11-25T16:24:42.476882Z",
     "shell.execute_reply": "2023-11-25T16:24:42.475183Z"
    },
    "papermill": {
     "duration": 0.44681,
     "end_time": "2023-11-25T16:24:42.479594",
     "exception": false,
     "start_time": "2023-11-25T16:24:42.032784",
     "status": "completed"
    },
    "tags": []
   },
   "outputs": [
    {
     "name": "stdout",
     "output_type": "stream",
     "text": [
      "/kaggle/input/llm-detect-ai-generated-text-dataset/Training_Essay_Data.csv\n"
     ]
    }
   ],
   "source": [
    "# This Python 3 environment comes with many helpful analytics libraries installed\n",
    "# It is defined by the kaggle/python Docker image: https://github.com/kaggle/docker-python\n",
    "# For example, here's several helpful packages to load\n",
    "\n",
    "import numpy as np # linear algebra\n",
    "import pandas as pd # data processing, CSV file I/O (e.g. pd.read_csv)\n",
    "\n",
    "# Input data files are available in the read-only \"../input/\" directory\n",
    "# For example, running this (by clicking run or pressing Shift+Enter) will list all files under the input directory\n",
    "\n",
    "import os\n",
    "for dirname, _, filenames in os.walk('/kaggle/input'):\n",
    "    for filename in filenames:\n",
    "        print(os.path.join(dirname, filename))\n",
    "\n",
    "# You can write up to 20GB to the current directory (/kaggle/working/) that gets preserved as output when you create a version using \"Save & Run All\" \n",
    "# You can also write temporary files to /kaggle/temp/, but they won't be saved outside of the current session"
   ]
  },
  {
   "cell_type": "code",
   "execution_count": 2,
   "id": "8e15e118",
   "metadata": {
    "execution": {
     "iopub.execute_input": "2023-11-25T16:24:42.496477Z",
     "iopub.status.busy": "2023-11-25T16:24:42.495948Z",
     "iopub.status.idle": "2023-11-25T16:24:44.142970Z",
     "shell.execute_reply": "2023-11-25T16:24:44.141787Z"
    },
    "papermill": {
     "duration": 1.657749,
     "end_time": "2023-11-25T16:24:44.145953",
     "exception": false,
     "start_time": "2023-11-25T16:24:42.488204",
     "status": "completed"
    },
    "tags": []
   },
   "outputs": [],
   "source": [
    "from sklearn.ensemble import RandomForestClassifier\n",
    "from sklearn.feature_extraction.text import TfidfVectorizer\n",
    "from sklearn.model_selection import train_test_split"
   ]
  },
  {
   "cell_type": "code",
   "execution_count": 3,
   "id": "ffe5abb5",
   "metadata": {
    "execution": {
     "iopub.execute_input": "2023-11-25T16:24:44.161281Z",
     "iopub.status.busy": "2023-11-25T16:24:44.160625Z",
     "iopub.status.idle": "2023-11-25T16:24:45.734516Z",
     "shell.execute_reply": "2023-11-25T16:24:45.733423Z"
    },
    "papermill": {
     "duration": 1.584573,
     "end_time": "2023-11-25T16:24:45.737222",
     "exception": false,
     "start_time": "2023-11-25T16:24:44.152649",
     "status": "completed"
    },
    "tags": []
   },
   "outputs": [],
   "source": [
    "import pandas as pd\n",
    "df = pd.read_csv('/kaggle/input/llm-detect-ai-generated-text-dataset/Training_Essay_Data.csv')"
   ]
  },
  {
   "cell_type": "code",
   "execution_count": 4,
   "id": "844c5448",
   "metadata": {
    "execution": {
     "iopub.execute_input": "2023-11-25T16:24:45.752545Z",
     "iopub.status.busy": "2023-11-25T16:24:45.752111Z",
     "iopub.status.idle": "2023-11-25T16:24:45.774319Z",
     "shell.execute_reply": "2023-11-25T16:24:45.773407Z"
    },
    "papermill": {
     "duration": 0.032806,
     "end_time": "2023-11-25T16:24:45.776764",
     "exception": false,
     "start_time": "2023-11-25T16:24:45.743958",
     "status": "completed"
    },
    "tags": []
   },
   "outputs": [
    {
     "data": {
      "text/html": [
       "<div>\n",
       "<style scoped>\n",
       "    .dataframe tbody tr th:only-of-type {\n",
       "        vertical-align: middle;\n",
       "    }\n",
       "\n",
       "    .dataframe tbody tr th {\n",
       "        vertical-align: top;\n",
       "    }\n",
       "\n",
       "    .dataframe thead th {\n",
       "        text-align: right;\n",
       "    }\n",
       "</style>\n",
       "<table border=\"1\" class=\"dataframe\">\n",
       "  <thead>\n",
       "    <tr style=\"text-align: right;\">\n",
       "      <th></th>\n",
       "      <th>text</th>\n",
       "      <th>generated</th>\n",
       "    </tr>\n",
       "  </thead>\n",
       "  <tbody>\n",
       "    <tr>\n",
       "      <th>0</th>\n",
       "      <td>Car-free cities have become a subject of incre...</td>\n",
       "      <td>1</td>\n",
       "    </tr>\n",
       "    <tr>\n",
       "      <th>1</th>\n",
       "      <td>Car Free Cities  Car-free cities, a concept ga...</td>\n",
       "      <td>1</td>\n",
       "    </tr>\n",
       "    <tr>\n",
       "      <th>2</th>\n",
       "      <td>A Sustainable Urban Future  Car-free cities ...</td>\n",
       "      <td>1</td>\n",
       "    </tr>\n",
       "    <tr>\n",
       "      <th>3</th>\n",
       "      <td>Pioneering Sustainable Urban Living  In an e...</td>\n",
       "      <td>1</td>\n",
       "    </tr>\n",
       "    <tr>\n",
       "      <th>4</th>\n",
       "      <td>The Path to Sustainable Urban Living  In an ...</td>\n",
       "      <td>1</td>\n",
       "    </tr>\n",
       "  </tbody>\n",
       "</table>\n",
       "</div>"
      ],
      "text/plain": [
       "                                                text  generated\n",
       "0  Car-free cities have become a subject of incre...          1\n",
       "1  Car Free Cities  Car-free cities, a concept ga...          1\n",
       "2    A Sustainable Urban Future  Car-free cities ...          1\n",
       "3    Pioneering Sustainable Urban Living  In an e...          1\n",
       "4    The Path to Sustainable Urban Living  In an ...          1"
      ]
     },
     "execution_count": 4,
     "metadata": {},
     "output_type": "execute_result"
    }
   ],
   "source": [
    "df.head()"
   ]
  },
  {
   "cell_type": "code",
   "execution_count": 5,
   "id": "d02db490",
   "metadata": {
    "execution": {
     "iopub.execute_input": "2023-11-25T16:24:45.792560Z",
     "iopub.status.busy": "2023-11-25T16:24:45.792184Z",
     "iopub.status.idle": "2023-11-25T16:24:57.377912Z",
     "shell.execute_reply": "2023-11-25T16:24:57.377027Z"
    },
    "papermill": {
     "duration": 11.596838,
     "end_time": "2023-11-25T16:24:57.380558",
     "exception": false,
     "start_time": "2023-11-25T16:24:45.783720",
     "status": "completed"
    },
    "tags": []
   },
   "outputs": [],
   "source": [
    "vect = TfidfVectorizer(stop_words='english', max_features=1000)\n",
    "X = vect.fit_transform(df['text'])\n",
    "y = df['generated']"
   ]
  },
  {
   "cell_type": "code",
   "execution_count": 6,
   "id": "840ac810",
   "metadata": {
    "execution": {
     "iopub.execute_input": "2023-11-25T16:24:57.396474Z",
     "iopub.status.busy": "2023-11-25T16:24:57.396052Z",
     "iopub.status.idle": "2023-11-25T16:24:57.413465Z",
     "shell.execute_reply": "2023-11-25T16:24:57.411907Z"
    },
    "papermill": {
     "duration": 0.029438,
     "end_time": "2023-11-25T16:24:57.417108",
     "exception": false,
     "start_time": "2023-11-25T16:24:57.387670",
     "status": "completed"
    },
    "tags": []
   },
   "outputs": [],
   "source": [
    "X_train, X_test, y_train, y_test = train_test_split(X, y, test_size=0.2)"
   ]
  },
  {
   "cell_type": "code",
   "execution_count": 7,
   "id": "34b9ab31",
   "metadata": {
    "execution": {
     "iopub.execute_input": "2023-11-25T16:24:57.433094Z",
     "iopub.status.busy": "2023-11-25T16:24:57.432693Z",
     "iopub.status.idle": "2023-11-25T16:24:57.437532Z",
     "shell.execute_reply": "2023-11-25T16:24:57.436532Z"
    },
    "papermill": {
     "duration": 0.015508,
     "end_time": "2023-11-25T16:24:57.439767",
     "exception": false,
     "start_time": "2023-11-25T16:24:57.424259",
     "status": "completed"
    },
    "tags": []
   },
   "outputs": [],
   "source": [
    "model = RandomForestClassifier(n_estimators = 100)"
   ]
  },
  {
   "cell_type": "code",
   "execution_count": 8,
   "id": "b103a1cc",
   "metadata": {
    "execution": {
     "iopub.execute_input": "2023-11-25T16:24:57.455669Z",
     "iopub.status.busy": "2023-11-25T16:24:57.454948Z",
     "iopub.status.idle": "2023-11-25T16:25:35.156564Z",
     "shell.execute_reply": "2023-11-25T16:25:35.155535Z"
    },
    "papermill": {
     "duration": 37.71852,
     "end_time": "2023-11-25T16:25:35.165456",
     "exception": false,
     "start_time": "2023-11-25T16:24:57.446936",
     "status": "completed"
    },
    "tags": []
   },
   "outputs": [
    {
     "data": {
      "text/html": [
       "<style>#sk-container-id-1 {color: black;background-color: white;}#sk-container-id-1 pre{padding: 0;}#sk-container-id-1 div.sk-toggleable {background-color: white;}#sk-container-id-1 label.sk-toggleable__label {cursor: pointer;display: block;width: 100%;margin-bottom: 0;padding: 0.3em;box-sizing: border-box;text-align: center;}#sk-container-id-1 label.sk-toggleable__label-arrow:before {content: \"▸\";float: left;margin-right: 0.25em;color: #696969;}#sk-container-id-1 label.sk-toggleable__label-arrow:hover:before {color: black;}#sk-container-id-1 div.sk-estimator:hover label.sk-toggleable__label-arrow:before {color: black;}#sk-container-id-1 div.sk-toggleable__content {max-height: 0;max-width: 0;overflow: hidden;text-align: left;background-color: #f0f8ff;}#sk-container-id-1 div.sk-toggleable__content pre {margin: 0.2em;color: black;border-radius: 0.25em;background-color: #f0f8ff;}#sk-container-id-1 input.sk-toggleable__control:checked~div.sk-toggleable__content {max-height: 200px;max-width: 100%;overflow: auto;}#sk-container-id-1 input.sk-toggleable__control:checked~label.sk-toggleable__label-arrow:before {content: \"▾\";}#sk-container-id-1 div.sk-estimator input.sk-toggleable__control:checked~label.sk-toggleable__label {background-color: #d4ebff;}#sk-container-id-1 div.sk-label input.sk-toggleable__control:checked~label.sk-toggleable__label {background-color: #d4ebff;}#sk-container-id-1 input.sk-hidden--visually {border: 0;clip: rect(1px 1px 1px 1px);clip: rect(1px, 1px, 1px, 1px);height: 1px;margin: -1px;overflow: hidden;padding: 0;position: absolute;width: 1px;}#sk-container-id-1 div.sk-estimator {font-family: monospace;background-color: #f0f8ff;border: 1px dotted black;border-radius: 0.25em;box-sizing: border-box;margin-bottom: 0.5em;}#sk-container-id-1 div.sk-estimator:hover {background-color: #d4ebff;}#sk-container-id-1 div.sk-parallel-item::after {content: \"\";width: 100%;border-bottom: 1px solid gray;flex-grow: 1;}#sk-container-id-1 div.sk-label:hover label.sk-toggleable__label {background-color: #d4ebff;}#sk-container-id-1 div.sk-serial::before {content: \"\";position: absolute;border-left: 1px solid gray;box-sizing: border-box;top: 0;bottom: 0;left: 50%;z-index: 0;}#sk-container-id-1 div.sk-serial {display: flex;flex-direction: column;align-items: center;background-color: white;padding-right: 0.2em;padding-left: 0.2em;position: relative;}#sk-container-id-1 div.sk-item {position: relative;z-index: 1;}#sk-container-id-1 div.sk-parallel {display: flex;align-items: stretch;justify-content: center;background-color: white;position: relative;}#sk-container-id-1 div.sk-item::before, #sk-container-id-1 div.sk-parallel-item::before {content: \"\";position: absolute;border-left: 1px solid gray;box-sizing: border-box;top: 0;bottom: 0;left: 50%;z-index: -1;}#sk-container-id-1 div.sk-parallel-item {display: flex;flex-direction: column;z-index: 1;position: relative;background-color: white;}#sk-container-id-1 div.sk-parallel-item:first-child::after {align-self: flex-end;width: 50%;}#sk-container-id-1 div.sk-parallel-item:last-child::after {align-self: flex-start;width: 50%;}#sk-container-id-1 div.sk-parallel-item:only-child::after {width: 0;}#sk-container-id-1 div.sk-dashed-wrapped {border: 1px dashed gray;margin: 0 0.4em 0.5em 0.4em;box-sizing: border-box;padding-bottom: 0.4em;background-color: white;}#sk-container-id-1 div.sk-label label {font-family: monospace;font-weight: bold;display: inline-block;line-height: 1.2em;}#sk-container-id-1 div.sk-label-container {text-align: center;}#sk-container-id-1 div.sk-container {/* jupyter's `normalize.less` sets `[hidden] { display: none; }` but bootstrap.min.css set `[hidden] { display: none !important; }` so we also need the `!important` here to be able to override the default hidden behavior on the sphinx rendered scikit-learn.org. See: https://github.com/scikit-learn/scikit-learn/issues/21755 */display: inline-block !important;position: relative;}#sk-container-id-1 div.sk-text-repr-fallback {display: none;}</style><div id=\"sk-container-id-1\" class=\"sk-top-container\"><div class=\"sk-text-repr-fallback\"><pre>RandomForestClassifier()</pre><b>In a Jupyter environment, please rerun this cell to show the HTML representation or trust the notebook. <br />On GitHub, the HTML representation is unable to render, please try loading this page with nbviewer.org.</b></div><div class=\"sk-container\" hidden><div class=\"sk-item\"><div class=\"sk-estimator sk-toggleable\"><input class=\"sk-toggleable__control sk-hidden--visually\" id=\"sk-estimator-id-1\" type=\"checkbox\" checked><label for=\"sk-estimator-id-1\" class=\"sk-toggleable__label sk-toggleable__label-arrow\">RandomForestClassifier</label><div class=\"sk-toggleable__content\"><pre>RandomForestClassifier()</pre></div></div></div></div></div>"
      ],
      "text/plain": [
       "RandomForestClassifier()"
      ]
     },
     "execution_count": 8,
     "metadata": {},
     "output_type": "execute_result"
    }
   ],
   "source": [
    "model.fit(X_train, y_train)"
   ]
  },
  {
   "cell_type": "code",
   "execution_count": 9,
   "id": "bd226151",
   "metadata": {
    "execution": {
     "iopub.execute_input": "2023-11-25T16:25:35.182091Z",
     "iopub.status.busy": "2023-11-25T16:25:35.181488Z",
     "iopub.status.idle": "2023-11-25T16:25:35.472980Z",
     "shell.execute_reply": "2023-11-25T16:25:35.471565Z"
    },
    "papermill": {
     "duration": 0.303197,
     "end_time": "2023-11-25T16:25:35.475991",
     "exception": false,
     "start_time": "2023-11-25T16:25:35.172794",
     "status": "completed"
    },
    "tags": []
   },
   "outputs": [],
   "source": [
    "y_pred = model.predict(X_test)"
   ]
  },
  {
   "cell_type": "code",
   "execution_count": 10,
   "id": "ed4b87d9",
   "metadata": {
    "execution": {
     "iopub.execute_input": "2023-11-25T16:25:35.492060Z",
     "iopub.status.busy": "2023-11-25T16:25:35.491662Z",
     "iopub.status.idle": "2023-11-25T16:25:36.075437Z",
     "shell.execute_reply": "2023-11-25T16:25:36.074195Z"
    },
    "papermill": {
     "duration": 0.594828,
     "end_time": "2023-11-25T16:25:36.078099",
     "exception": false,
     "start_time": "2023-11-25T16:25:35.483271",
     "status": "completed"
    },
    "tags": []
   },
   "outputs": [
    {
     "name": "stdout",
     "output_type": "stream",
     "text": [
      "accuracy is 98.490%\n"
     ]
    },
    {
     "data": {
      "image/png": "[encoded data removed]",
      "text/plain": [
       "<Figure size 640x480 with 2 Axes>"
      ]
     },
     "metadata": {},
     "output_type": "display_data"
    }
   ],
   "source": [
    "from sklearn.metrics import confusion_matrix, accuracy_score\n",
    "import seaborn as sns\n",
    "import matplotlib.pyplot as plt\n",
    "cm = confusion_matrix(y_pred, y_test)\n",
    "acc = accuracy_score(y_pred, y_test)\n",
    "print(\"accuracy is {0:.3f}%\".format(acc*100))\n",
    "sns.heatmap(cm, annot=True, fmt='.0f')\n",
    "plt.xlabel('Predicted Digits')\n",
    "plt.ylabel('True Digits')\n",
    "plt.show()\n"
   ]
  },
  {
   "cell_type": "code",
   "execution_count": 11,
   "id": "1e9812e3",
   "metadata": {
    "execution": {
     "iopub.execute_input": "2023-11-25T16:25:36.095716Z",
     "iopub.status.busy": "2023-11-25T16:25:36.095280Z",
     "iopub.status.idle": "2023-11-25T16:26:27.733725Z",
     "shell.execute_reply": "2023-11-25T16:26:27.732433Z"
    },
    "papermill": {
     "duration": 51.656678,
     "end_time": "2023-11-25T16:26:27.742615",
     "exception": false,
     "start_time": "2023-11-25T16:25:36.085937",
     "status": "completed"
    },
    "tags": []
   },
   "outputs": [
    {
     "data": {
      "text/html": [
       "<style>#sk-container-id-2 {color: black;background-color: white;}#sk-container-id-2 pre{padding: 0;}#sk-container-id-2 div.sk-toggleable {background-color: white;}#sk-container-id-2 label.sk-toggleable__label {cursor: pointer;display: block;width: 100%;margin-bottom: 0;padding: 0.3em;box-sizing: border-box;text-align: center;}#sk-container-id-2 label.sk-toggleable__label-arrow:before {content: \"▸\";float: left;margin-right: 0.25em;color: #696969;}#sk-container-id-2 label.sk-toggleable__label-arrow:hover:before {color: black;}#sk-container-id-2 div.sk-estimator:hover label.sk-toggleable__label-arrow:before {color: black;}#sk-container-id-2 div.sk-toggleable__content {max-height: 0;max-width: 0;overflow: hidden;text-align: left;background-color: #f0f8ff;}#sk-container-id-2 div.sk-toggleable__content pre {margin: 0.2em;color: black;border-radius: 0.25em;background-color: #f0f8ff;}#sk-container-id-2 input.sk-toggleable__control:checked~div.sk-toggleable__content {max-height: 200px;max-width: 100%;overflow: auto;}#sk-container-id-2 input.sk-toggleable__control:checked~label.sk-toggleable__label-arrow:before {content: \"▾\";}#sk-container-id-2 div.sk-estimator input.sk-toggleable__control:checked~label.sk-toggleable__label {background-color: #d4ebff;}#sk-container-id-2 div.sk-label input.sk-toggleable__control:checked~label.sk-toggleable__label {background-color: #d4ebff;}#sk-container-id-2 input.sk-hidden--visually {border: 0;clip: rect(1px 1px 1px 1px);clip: rect(1px, 1px, 1px, 1px);height: 1px;margin: -1px;overflow: hidden;padding: 0;position: absolute;width: 1px;}#sk-container-id-2 div.sk-estimator {font-family: monospace;background-color: #f0f8ff;border: 1px dotted black;border-radius: 0.25em;box-sizing: border-box;margin-bottom: 0.5em;}#sk-container-id-2 div.sk-estimator:hover {background-color: #d4ebff;}#sk-container-id-2 div.sk-parallel-item::after {content: \"\";width: 100%;border-bottom: 1px solid gray;flex-grow: 1;}#sk-container-id-2 div.sk-label:hover label.sk-toggleable__label {background-color: #d4ebff;}#sk-container-id-2 div.sk-serial::before {content: \"\";position: absolute;border-left: 1px solid gray;box-sizing: border-box;top: 0;bottom: 0;left: 50%;z-index: 0;}#sk-container-id-2 div.sk-serial {display: flex;flex-direction: column;align-items: center;background-color: white;padding-right: 0.2em;padding-left: 0.2em;position: relative;}#sk-container-id-2 div.sk-item {position: relative;z-index: 1;}#sk-container-id-2 div.sk-parallel {display: flex;align-items: stretch;justify-content: center;background-color: white;position: relative;}#sk-container-id-2 div.sk-item::before, #sk-container-id-2 div.sk-parallel-item::before {content: \"\";position: absolute;border-left: 1px solid gray;box-sizing: border-box;top: 0;bottom: 0;left: 50%;z-index: -1;}#sk-container-id-2 div.sk-parallel-item {display: flex;flex-direction: column;z-index: 1;position: relative;background-color: white;}#sk-container-id-2 div.sk-parallel-item:first-child::after {align-self: flex-end;width: 50%;}#sk-container-id-2 div.sk-parallel-item:last-child::after {align-self: flex-start;width: 50%;}#sk-container-id-2 div.sk-parallel-item:only-child::after {width: 0;}#sk-container-id-2 div.sk-dashed-wrapped {border: 1px dashed gray;margin: 0 0.4em 0.5em 0.4em;box-sizing: border-box;padding-bottom: 0.4em;background-color: white;}#sk-container-id-2 div.sk-label label {font-family: monospace;font-weight: bold;display: inline-block;line-height: 1.2em;}#sk-container-id-2 div.sk-label-container {text-align: center;}#sk-container-id-2 div.sk-container {/* jupyter's `normalize.less` sets `[hidden] { display: none; }` but bootstrap.min.css set `[hidden] { display: none !important; }` so we also need the `!important` here to be able to override the default hidden behavior on the sphinx rendered scikit-learn.org. See: https://github.com/scikit-learn/scikit-learn/issues/21755 */display: inline-block !important;position: relative;}#sk-container-id-2 div.sk-text-repr-fallback {display: none;}</style><div id=\"sk-container-id-2\" class=\"sk-top-container\"><div class=\"sk-text-repr-fallback\"><pre>RandomForestClassifier()</pre><b>In a Jupyter environment, please rerun this cell to show the HTML representation or trust the notebook. <br />On GitHub, the HTML representation is unable to render, please try loading this page with nbviewer.org.</b></div><div class=\"sk-container\" hidden><div class=\"sk-item\"><div class=\"sk-estimator sk-toggleable\"><input class=\"sk-toggleable__control sk-hidden--visually\" id=\"sk-estimator-id-2\" type=\"checkbox\" checked><label for=\"sk-estimator-id-2\" class=\"sk-toggleable__label sk-toggleable__label-arrow\">RandomForestClassifier</label><div class=\"sk-toggleable__content\"><pre>RandomForestClassifier()</pre></div></div></div></div></div>"
      ],
      "text/plain": [
       "RandomForestClassifier()"
      ]
     },
     "execution_count": 11,
     "metadata": {},
     "output_type": "execute_result"
    }
   ],
   "source": [
    "model2 = RandomForestClassifier(n_estimators = 100)\n",
    "model2.fit(X,y)"
   ]
  },
  {
   "cell_type": "code",
   "execution_count": 12,
   "id": "7a00d1e8",
   "metadata": {
    "execution": {
     "iopub.execute_input": "2023-11-25T16:26:27.760018Z",
     "iopub.status.busy": "2023-11-25T16:26:27.759603Z",
     "iopub.status.idle": "2023-11-25T16:26:28.065840Z",
     "shell.execute_reply": "2023-11-25T16:26:28.064729Z"
    },
    "papermill": {
     "duration": 0.318044,
     "end_time": "2023-11-25T16:26:28.068542",
     "exception": false,
     "start_time": "2023-11-25T16:26:27.750498",
     "status": "completed"
    },
    "tags": []
   },
   "outputs": [],
   "source": [
    "y_pred2 = model2.predict(X_test)"
   ]
  },
  {
   "cell_type": "code",
   "execution_count": 13,
   "id": "e388d6bc",
   "metadata": {
    "execution": {
     "iopub.execute_input": "2023-11-25T16:26:28.086852Z",
     "iopub.status.busy": "2023-11-25T16:26:28.086457Z",
     "iopub.status.idle": "2023-11-25T16:26:28.322654Z",
     "shell.execute_reply": "2023-11-25T16:26:28.321487Z"
    },
    "papermill": {
     "duration": 0.248368,
     "end_time": "2023-11-25T16:26:28.325208",
     "exception": false,
     "start_time": "2023-11-25T16:26:28.076840",
     "status": "completed"
    },
    "tags": []
   },
   "outputs": [
    {
     "name": "stdout",
     "output_type": "stream",
     "text": [
      "accuracy is 100.000%\n"
     ]
    },
    {
     "data": {
      "image/png": "[encoded data removed]",
      "text/plain": [
       "<Figure size 640x480 with 2 Axes>"
      ]
     },
     "metadata": {},
     "output_type": "display_data"
    }
   ],
   "source": [
    "\n",
    "cm2 = confusion_matrix(y_pred2, y_test)\n",
    "acc2 = accuracy_score(y_pred2, y_test)\n",
    "print(\"accuracy is {0:.3f}%\".format(acc2*100))\n",
    "sns.heatmap(cm2, annot=True, fmt='.0f')\n",
    "plt.xlabel('Predicted Digits')\n",
    "plt.ylabel('True Digits')\n",
    "plt.show()"
   ]
  },
  {
   "cell_type": "code",
   "execution_count": 14,
   "id": "4b5213a9",
   "metadata": {
    "execution": {
     "iopub.execute_input": "2023-11-25T16:26:28.344369Z",
     "iopub.status.busy": "2023-11-25T16:26:28.343494Z",
     "iopub.status.idle": "2023-11-25T16:26:28.377879Z",
     "shell.execute_reply": "2023-11-25T16:26:28.376665Z"
    },
    "papermill": {
     "duration": 0.046743,
     "end_time": "2023-11-25T16:26:28.380514",
     "exception": false,
     "start_time": "2023-11-25T16:26:28.333771",
     "status": "completed"
    },
    "tags": []
   },
   "outputs": [],
   "source": [
    "import pickle\n",
    "with open('AI_generated_text_detection.pkl', 'wb') as fid:\n",
    "    pickle.dump(model2, fid) "
   ]
  },
  {
   "cell_type": "code",
   "execution_count": 15,
   "id": "77aa6ca9",
   "metadata": {
    "execution": {
     "iopub.execute_input": "2023-11-25T16:26:28.399078Z",
     "iopub.status.busy": "2023-11-25T16:26:28.398700Z",
     "iopub.status.idle": "2023-11-25T16:26:28.407439Z",
     "shell.execute_reply": "2023-11-25T16:26:28.406289Z"
    },
    "papermill": {
     "duration": 0.020832,
     "end_time": "2023-11-25T16:26:28.409777",
     "exception": false,
     "start_time": "2023-11-25T16:26:28.388945",
     "status": "completed"
    },
    "tags": []
   },
   "outputs": [
    {
     "data": {
      "text/plain": [
       "<1x1000 sparse matrix of type '<class 'numpy.float64'>'\n",
       "\twith 137 stored elements in Compressed Sparse Row format>"
      ]
     },
     "execution_count": 15,
     "metadata": {},
     "output_type": "execute_result"
    }
   ],
   "source": [
    "X[0]"
   ]
  },
  {
   "cell_type": "code",
   "execution_count": 16,
   "id": "e8674352",
   "metadata": {
    "execution": {
     "iopub.execute_input": "2023-11-25T16:26:28.429556Z",
     "iopub.status.busy": "2023-11-25T16:26:28.428442Z",
     "iopub.status.idle": "2023-11-25T16:26:28.447787Z",
     "shell.execute_reply": "2023-11-25T16:26:28.446540Z"
    },
    "papermill": {
     "duration": 0.031918,
     "end_time": "2023-11-25T16:26:28.450245",
     "exception": false,
     "start_time": "2023-11-25T16:26:28.418327",
     "status": "completed"
    },
    "tags": []
   },
   "outputs": [
    {
     "name": "stdout",
     "output_type": "stream",
     "text": [
      "Not a AI Generated\n"
     ]
    }
   ],
   "source": [
    "text = \"\"\"Cars have been around since the 1800's and have been popular ever since. Although, in recent years the number of cars bought and licenses attained have been dropping. Car usage has also dropped, which is a good thing. Because of limited car usage, people are helping the environment and benefiting themselves.\n",
    "\n",
    "Cars emit pollution which harm our health and the environment's health.\n",
    "\n",
    "\"...Passenger cars are responsible for 12 percent of greenhouse gas emissions in Europe... and up to 50 percent in some carintensive areas in the United States.\" Cars make up a large amount of the emissions that do harm to the environment. When car usage is limited, less people drive, which in turn limits pollution. \"... but also in the developing world, where emissions from an increasing number of private cars are owned by the burgeoning middle class are choking cities.\" Again we see that cars are polluting our world, and it's caused by us. \" it will have beneficial implications for carbon emissions and the environment, since transportation is the second largest source of America's emissions, just behind power plants.\" Cars and other transportation are releasing emissions which are harming the environment. Limited car usage clears up the pollution which helps us and the environment stay healthy.\n",
    "\n",
    "Many people are taking up new ways of transportation due to bans and such which are due to limits on car usage. They are taking public transportation, walking, carpooling, and so on. All of these methods of alternative transportation are beneficial. \"They organize their summer jobs and social life around where they can walk or take public transportation or carpool with friends.\" It is better to limit car usage because not only are you helping the environment, but you're also saving money and helping yourself out. Due to the lower amount of people who buy cars because of limited car usage, car corporations are also changing. \"He proposed partnering with the telecommunications industry to create cities in which pedestrian, bicycle, private cars, commercial and public transportation traffic are woven into a connected network to save time, conserve resources, lower emissions and improve safety.' \" The way people live will benefit from lower car usage. Our lifes will be much safer. Although some people may be upset if they can't drive their cars when they want, in the long run it benefits all of the community.\n",
    "\n",
    "As bans continued to be passed and people are choosing to walk or take the bus instead, limted car usage continues. We can see that it is beneficial to us and will help our environment in the long run. Limited car usage is truely a good thing for us and will hopefully continue.\"\"\"\n",
    "flag = int(model2.predict(vect.transform([text])))\n",
    "if(flag):\n",
    "   print(\"AI Generated\")\n",
    "else:\n",
    "   print(\"Not a AI Generated\")"
   ]
  },
  {
   "cell_type": "code",
   "execution_count": 17,
   "id": "8a86a231",
   "metadata": {
    "execution": {
     "iopub.execute_input": "2023-11-25T16:26:28.469392Z",
     "iopub.status.busy": "2023-11-25T16:26:28.468969Z",
     "iopub.status.idle": "2023-11-25T16:26:28.474478Z",
     "shell.execute_reply": "2023-11-25T16:26:28.473385Z"
    },
    "papermill": {
     "duration": 0.018947,
     "end_time": "2023-11-25T16:26:28.477901",
     "exception": false,
     "start_time": "2023-11-25T16:26:28.458954",
     "status": "completed"
    },
    "tags": []
   },
   "outputs": [
    {
     "name": "stdout",
     "output_type": "stream",
     "text": [
      "Cars have been around since the 1800's and have been popular ever since. Although, in recent years the number of cars bought and licenses attained have been dropping. Car usage has also dropped, which is a good thing. Because of limited car usage, people are helping the environment and benefiting themselves.\n",
      "\n",
      "Cars emit pollution which harm our health and the environment's health.\n",
      "\n",
      "\"...Passenger cars are responsible for 12 percent of greenhouse gas emissions in Europe... and up to 50 percent in some carintensive areas in the United States.\" Cars make up a large amount of the emissions that do harm to the environment. When car usage is limited, less people drive, which in turn limits pollution. \"... but also in the developing world, where emissions from an increasing number of private cars are owned by the burgeoning middle class are choking cities.\" Again we see that cars are polluting our world, and it's caused by us. \" it will have beneficial implications for carbon emissions and the environment, since transportation is the second largest source of America's emissions, just behind power plants.\" Cars and other transportation are releasing emissions which are harming the environment. Limited car usage clears up the pollution which helps us and the environment stay healthy.\n",
      "\n",
      "Many people are taking up new ways of transportation due to bans and such which are due to limits on car usage. They are taking public transportation, walking, carpooling, and so on. All of these methods of alternative transportation are beneficial. \"They organize their summer jobs and social life around where they can walk or take public transportation or carpool with friends.\" It is better to limit car usage because not only are you helping the environment, but you're also saving money and helping yourself out. Due to the lower amount of people who buy cars because of limited car usage, car corporations are also changing. \"He proposed partnering with the telecommunications industry to create cities in which pedestrian, bicycle, private cars, commercial and public transportation traffic are woven into a connected network to save time, conserve resources, lower emissions and improve safety.' \" The way people live will benefit from lower car usage. Our lifes will be much safer. Although some people may be upset if they can't drive their cars when they want, in the long run it benefits all of the community.\n",
      "\n",
      "As bans continued to be passed and people are choosing to walk or take the bus instead, limted car usage continues. We can see that it is beneficial to us and will help our environment in the long run. Limited car usage is truely a good thing for us and will hopefully continue.\n"
     ]
    }
   ],
   "source": [
    "print(df['text'][29144])"
   ]
  },
  {
   "cell_type": "code",
   "execution_count": 18,
   "id": "a4e9d385",
   "metadata": {
    "execution": {
     "iopub.execute_input": "2023-11-25T16:26:28.497451Z",
     "iopub.status.busy": "2023-11-25T16:26:28.497038Z",
     "iopub.status.idle": "2023-11-25T16:26:28.508663Z",
     "shell.execute_reply": "2023-11-25T16:26:28.507575Z"
    },
    "papermill": {
     "duration": 0.02406,
     "end_time": "2023-11-25T16:26:28.510830",
     "exception": false,
     "start_time": "2023-11-25T16:26:28.486770",
     "status": "completed"
    },
    "tags": []
   },
   "outputs": [
    {
     "data": {
      "text/html": [
       "<div>\n",
       "<style scoped>\n",
       "    .dataframe tbody tr th:only-of-type {\n",
       "        vertical-align: middle;\n",
       "    }\n",
       "\n",
       "    .dataframe tbody tr th {\n",
       "        vertical-align: top;\n",
       "    }\n",
       "\n",
       "    .dataframe thead th {\n",
       "        text-align: right;\n",
       "    }\n",
       "</style>\n",
       "<table border=\"1\" class=\"dataframe\">\n",
       "  <thead>\n",
       "    <tr style=\"text-align: right;\">\n",
       "      <th></th>\n",
       "      <th>text</th>\n",
       "      <th>generated</th>\n",
       "    </tr>\n",
       "  </thead>\n",
       "  <tbody>\n",
       "    <tr>\n",
       "      <th>29140</th>\n",
       "      <td>There has been a fuss about the Elector Colleg...</td>\n",
       "      <td>0</td>\n",
       "    </tr>\n",
       "    <tr>\n",
       "      <th>29141</th>\n",
       "      <td>Limiting car usage has many advantages. Such a...</td>\n",
       "      <td>0</td>\n",
       "    </tr>\n",
       "    <tr>\n",
       "      <th>29142</th>\n",
       "      <td>There's a new trend that has been developing f...</td>\n",
       "      <td>0</td>\n",
       "    </tr>\n",
       "    <tr>\n",
       "      <th>29143</th>\n",
       "      <td>As we all know cars are a big part of our soci...</td>\n",
       "      <td>0</td>\n",
       "    </tr>\n",
       "    <tr>\n",
       "      <th>29144</th>\n",
       "      <td>Cars have been around since the 1800's and hav...</td>\n",
       "      <td>0</td>\n",
       "    </tr>\n",
       "  </tbody>\n",
       "</table>\n",
       "</div>"
      ],
      "text/plain": [
       "                                                    text  generated\n",
       "29140  There has been a fuss about the Elector Colleg...          0\n",
       "29141  Limiting car usage has many advantages. Such a...          0\n",
       "29142  There's a new trend that has been developing f...          0\n",
       "29143  As we all know cars are a big part of our soci...          0\n",
       "29144  Cars have been around since the 1800's and hav...          0"
      ]
     },
     "execution_count": 18,
     "metadata": {},
     "output_type": "execute_result"
    }
   ],
   "source": [
    "df.tail()"
   ]
  }
 ],
 "metadata": {
  "kaggle": {
   "accelerator": "none",
   "dataSources": [
    {
     "datasetId": 3973543,
     "sourceId": 6920046,
     "sourceType": "datasetVersion"
    }
   ],
   "dockerImageVersionId": 30587,
   "isGpuEnabled": false,
   "isInternetEnabled": true,
   "language": "python",
   "sourceType": "notebook"
  },
  "kernelspec": {
   "display_name": "Python 3",
   "language": "python",
   "name": "python3"
  },
  "language_info": {
   "codemirror_mode": {
    "name": "ipython",
    "version": 3
   },
   "file_extension": ".py",
   "mimetype": "text/x-python",
   "name": "python",
   "nbconvert_exporter": "python",
   "pygments_lexer": "ipython3",
   "version": "3.10.12"
  },
  "papermill": {
   "default_parameters": {},
   "duration": 110.537481,
   "end_time": "2023-11-25T16:26:29.140208",
   "environment_variables": {},
   "exception": null,
   "input_path": "__notebook__.ipynb",
   "output_path": "__notebook__.ipynb",
   "parameters": {},
   "start_time": "2023-11-25T16:24:38.602727",
   "version": "2.4.0"
  }
 },
 "nbformat": 4,
 "nbformat_minor": 5
}
